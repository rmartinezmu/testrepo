{
 "cells": [
  {
   "cell_type": "markdown",
   "id": "b7ae54bb-7df4-457e-bb8d-1c85cf708648",
   "metadata": {},
   "source": [
    "# Data Science Ecosystem\n",
    "## By Rafael Martínez"
   ]
  },
  {
   "cell_type": "markdown",
   "id": "6f65558e-c100-42db-a345-d9d27e82aeed",
   "metadata": {},
   "source": [
    "### In this notebook, Data Science Tools and Ecosystems are sumarized"
   ]
  },
  {
   "cell_type": "markdown",
   "id": "63419409-83c8-4fc6-be3c-4f7df4a6463c",
   "metadata": {},
   "source": [
    "### **Objectives:**\n",
    "* Popular Languages used in Data Science\n",
    "* Popular Libraries\n",
    "* DevOps fur Data Science\n",
    "* Arithmetic Expressions"
   ]
  },
  {
   "cell_type": "markdown",
   "id": "0707d16d-910b-40b5-a7b9-cb10780c23d8",
   "metadata": {},
   "source": [
    "#### Some of the popular languages used in Data Science are:\n",
    "    1. Python\n",
    "    2. R\n",
    "    3. Julia\n",
    "    4. C++\n",
    " \n"
   ]
  },
  {
   "cell_type": "markdown",
   "id": "c0bac614-9a57-490d-ad54-91bfebb6bb46",
   "metadata": {},
   "source": [
    "#### There are several and commonly used libraries for Data Science, like:\n",
    "   \n",
    "* For Pyhton:\n",
    "\n",
    "    1. Pandas\n",
    "    2. Numpy\n",
    "    3. Matplotlib\n",
    "    4. Seaborn\n",
    "\n",
    "\n",
    "\n",
    "* For Scala:\n",
    "\n",
    "    1. Vegas\n",
    "    2. Big DL (Deep Learning)\n",
    "    \n",
    "\n",
    "\n",
    "\n",
    "* For R:\n",
    "    \n",
    "    1. ggplots2\n",
    "    2. Keras\n",
    "    3. dplyr\n",
    "    4. strings\n",
    "    5. plotly\n",
    "    6. caret\n",
    "\n"
   ]
  },
  {
   "cell_type": "markdown",
   "id": "d9c0f88f-b3d1-48dd-8932-a35282f8b953",
   "metadata": {},
   "source": [
    "### Development Environments open source tools for Data Science:\n",
    "\n",
    "|        Data Science Tools        |\n",
    "|--------------------------------|\n",
    "\n",
    "|Jupyter Lab | R Studio | Spyder |\n",
    "|-----------|-----------|-----------|\n",
    "\n",
    "\n"
   ]
  },
  {
   "cell_type": "markdown",
   "id": "d1c76f86-d5ec-405c-a7c9-314ecc657ee8",
   "metadata": {},
   "source": [
    "### Below are a few examples of evaluating arithmetic expressions in Python\n"
   ]
  },
  {
   "cell_type": "code",
   "execution_count": 1,
   "id": "5e5f2eac-1665-4d43-84f7-be2ddcb8cd85",
   "metadata": {
    "tags": []
   },
   "outputs": [
    {
     "data": {
      "text/plain": [
       "17"
      ]
     },
     "execution_count": 1,
     "metadata": {},
     "output_type": "execute_result"
    }
   ],
   "source": [
    "# This is a simple arithmetic expression to muliply then add integers:\n",
    "\n",
    "(3*4)+5"
   ]
  },
  {
   "cell_type": "code",
   "execution_count": 4,
   "id": "22889fdb-42b8-44e2-b154-bebfb549eab1",
   "metadata": {
    "tags": []
   },
   "outputs": [
    {
     "name": "stdout",
     "output_type": "stream",
     "text": [
      "200 minutes equals 3.3333333333333335 hours\n"
     ]
    }
   ],
   "source": [
    "# This will convert 200 minutes to hours by diving by 60:\n",
    "\n",
    "x=(200/60)\n",
    "print('200 minutes equals',x,'hours')"
   ]
  },
  {
   "cell_type": "markdown",
   "id": "02ad097e-f460-4be4-a5f3-d434f1cf0019",
   "metadata": {},
   "source": [
    "## Author:\n",
    "Rafael Martínez "
   ]
  },
  {
   "cell_type": "code",
   "execution_count": null,
   "id": "409f3577-69bf-485b-ac42-78eb0cc91256",
   "metadata": {},
   "outputs": [],
   "source": []
  }
 ],
 "metadata": {
  "kernelspec": {
   "display_name": "Python",
   "language": "python",
   "name": "conda-env-python-py"
  },
  "language_info": {
   "codemirror_mode": {
    "name": "ipython",
    "version": 3
   },
   "file_extension": ".py",
   "mimetype": "text/x-python",
   "name": "python",
   "nbconvert_exporter": "python",
   "pygments_lexer": "ipython3",
   "version": "3.7.12"
  }
 },
 "nbformat": 4,
 "nbformat_minor": 5
}
